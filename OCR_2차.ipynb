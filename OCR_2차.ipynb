{
  "nbformat": 4,
  "nbformat_minor": 0,
  "metadata": {
    "colab": {
      "provenance": []
    },
    "kernelspec": {
      "name": "python3",
      "display_name": "Python 3"
    },
    "language_info": {
      "name": "python"
    },
    "accelerator": "TPU"
  },
  "cells": [
    {
      "cell_type": "code",
      "execution_count": 1,
      "metadata": {
        "colab": {
          "base_uri": "https://localhost:8080/"
        },
        "id": "PVUK8_e_4ZZf",
        "outputId": "3a5ffb94-d8b3-4460-b998-9c05b73ab852"
      },
      "outputs": [
        {
          "output_type": "stream",
          "name": "stdout",
          "text": [
            "Requirement already satisfied: opencv-contrib-python in /usr/local/lib/python3.10/dist-packages (4.8.0.76)\n",
            "Requirement already satisfied: numpy>=1.21.2 in /usr/local/lib/python3.10/dist-packages (from opencv-contrib-python) (1.23.5)\n",
            "Requirement already satisfied: requests in /usr/local/lib/python3.10/dist-packages (2.31.0)\n",
            "Requirement already satisfied: charset-normalizer<4,>=2 in /usr/local/lib/python3.10/dist-packages (from requests) (3.2.0)\n",
            "Requirement already satisfied: idna<4,>=2.5 in /usr/local/lib/python3.10/dist-packages (from requests) (3.4)\n",
            "Requirement already satisfied: urllib3<3,>=1.21.1 in /usr/local/lib/python3.10/dist-packages (from requests) (2.0.4)\n",
            "Requirement already satisfied: certifi>=2017.4.17 in /usr/local/lib/python3.10/dist-packages (from requests) (2023.7.22)\n"
          ]
        }
      ],
      "source": [
        "!pip install opencv-contrib-python\n",
        "!pip install requests"
      ]
    },
    {
      "cell_type": "code",
      "source": [
        "import numpy as np\n",
        "import platform\n",
        "from PIL import ImageFont, ImageDraw, Image\n",
        "from matplotlib import pyplot as pyplot\n",
        "import matplotlib.pyplot as plt\n",
        "\n",
        "import uuid\n",
        "import json\n",
        "import time\n",
        "import cv2\n",
        "import requests\n",
        "import os\n",
        "import csv"
      ],
      "metadata": {
        "id": "6ByYCB4M8zgT"
      },
      "execution_count": 30,
      "outputs": []
    },
    {
      "cell_type": "code",
      "source": [
        "api_url = ''\n",
        "secret_key = ''"
      ],
      "metadata": {
        "id": "xPawMSFm9u9l"
      },
      "execution_count": 31,
      "outputs": []
    },
    {
      "cell_type": "code",
      "source": [
        "# CSV 파일에서 블러링을 적용할 글자 목록 읽기\n",
        "def read_text_to_blur_from_csv(csv_file):\n",
        "    text_to_blur = []\n",
        "    with open(csv_file, 'r', newline='', encoding='utf-8') as file:\n",
        "        csv_reader = csv.reader(file)\n",
        "        for row in csv_reader:\n",
        "            if row:\n",
        "                text_to_blur.append(row[0])\n",
        "    return text_to_blur"
      ],
      "metadata": {
        "id": "6h2OgQc08NKs"
      },
      "execution_count": 32,
      "outputs": []
    },
    {
      "cell_type": "code",
      "source": [
        "# CSV 파일에서 블러링을 적용할 글자 목록 읽기\n",
        "csv_file = 'Total_Road_Address.csv'\n",
        "text_to_blur = read_text_to_blur_from_csv(csv_file)"
      ],
      "metadata": {
        "id": "bZcSyVua8nCJ"
      },
      "execution_count": 33,
      "outputs": []
    },
    {
      "cell_type": "code",
      "source": [
        "#print(text_to_blur[1])"
      ],
      "metadata": {
        "id": "nbR0z0mg8rFg"
      },
      "execution_count": 34,
      "outputs": []
    },
    {
      "cell_type": "code",
      "source": [
        "# 이미지를 처리하고 저장하는 함수 정의\n",
        "def process_and_save_image(image_path, text_to_blur, output_folder):\n",
        "    # 이미지 로드\n",
        "    img = cv2.imread(image_path)\n",
        "    roi_img = img.copy()\n",
        "    original = img.copy()\n",
        "\n",
        "    # CLOVA OCR API에 요청 보내기\n",
        "    image_file = ('file', open(image_path, 'rb'))  # 이미지 파일을 튜플로 래핑\n",
        "\n",
        "    request_json = {'images': [{'format': 'jpg',\n",
        "                                'name': 'demo'\n",
        "                               }],\n",
        "                    'requestId': str(uuid.uuid4()),\n",
        "                    'version': 'V2',\n",
        "                    'timestamp': int(round(time.time() * 1000))\n",
        "                   }\n",
        "\n",
        "    payload = {'message': json.dumps(request_json).encode('UTF-8')}\n",
        "\n",
        "    headers = {\n",
        "      'X-OCR-SECRET': secret_key,\n",
        "    }\n",
        "\n",
        "    response = requests.request(\"POST\", api_url, headers=headers, data=payload, files=[image_file]) # 이미지 파일을 리스트로 전달\n",
        "    result = response.json()\n",
        "\n",
        "    # OCR 결과 처리 및 블러링 적용\n",
        "    for field in result['images'][0]['fields']:\n",
        "      text = field['inferText']\n",
        "      vertices_list = field['boundingPoly']['vertices']\n",
        "      pts = [tuple(vertice.values()) for vertice in vertices_list]\n",
        "      topLeft = [int(_) for _ in pts[0]]\n",
        "      topRight = [int(_) for _ in pts[1]]\n",
        "      bottomRight = [int(_) for _ in pts[2]]\n",
        "      bottomLeft = [int(_) for _ in pts[3]]\n",
        "\n",
        "      cv2.line(roi_img, topLeft, topRight, (0,255,0), 2)\n",
        "      cv2.line(roi_img, topRight, bottomRight, (0,255,0), 2)\n",
        "      cv2.line(roi_img, bottomRight, bottomLeft, (0,255,0), 2)\n",
        "      cv2.line(roi_img, bottomLeft, topLeft, (0,255,0), 2)\n",
        "\n",
        "      # 블러링 적용\n",
        "      if text in text_to_blur:\n",
        "         x1, y1 = topLeft\n",
        "         x2, y2 = bottomRight\n",
        "         if x1 < x2 and y1 < y2:  # 영역이 비어 있지 않을 때만 블러링 적용\n",
        "            roi = img[y1:y2, x1:x2]\n",
        "            if roi.size != 0: # 이미지 영역의 크기가 0이 아닌 경우에만 블러링 적용\n",
        "              roi = cv2.GaussianBlur(roi, (0, 0), sigmaX=10)  # 블러링 효과 적용\n",
        "              img[y1:y2, x1:x2] = roi\n",
        "            else:\n",
        "              print(f\"Empty ROI at x1={x1}, y1={y1}, x2={x2}, y2={y2}\")\n",
        "         else:\n",
        "          print(f\"Invalid ROI coordinates: x1={x1}, y1={y1}, x2={x2}, y2={y2}\")\n",
        "\n",
        "    # 이미지 저장 경로 설정\n",
        "    output_path = os.path.join(output_folder, os.path.basename(image_path))\n",
        "\n",
        "    # 이미지 저장\n",
        "    cv2.imwrite(output_path, img)"
      ],
      "metadata": {
        "id": "TEtycxiq9TY4"
      },
      "execution_count": 35,
      "outputs": []
    },
    {
      "cell_type": "code",
      "source": [
        "# 이미지 파일이 있는 폴더 경로 설정\n",
        "image_folder = 'OCR_Test'\n",
        "\n",
        "# 이미지 파일 경로 목록 생성\n",
        "image_paths = [os.path.join(image_folder, filename) for filename in os.listdir(image_folder) if filename.endswith(('.jpg', '.png', '.jpeg'))]\n"
      ],
      "metadata": {
        "id": "AKIgI6_a_VaL"
      },
      "execution_count": 36,
      "outputs": []
    },
    {
      "cell_type": "code",
      "source": [
        "#print(image_paths)"
      ],
      "metadata": {
        "id": "BO2R2YnK_jKj"
      },
      "execution_count": 37,
      "outputs": []
    },
    {
      "cell_type": "code",
      "source": [
        "# 이미지를 처리하고 저장하는 루프\n",
        "output_folder = 'output_folder_1'\n",
        "\n",
        "if not os.path.exists(output_folder):\n",
        "    os.makedirs(output_folder)\n",
        "\n",
        "for image_path in image_paths:\n",
        "    process_and_save_image(image_path, text_to_blur, output_folder)"
      ],
      "metadata": {
        "colab": {
          "base_uri": "https://localhost:8080/"
        },
        "id": "HYWuroxh_qP-",
        "outputId": "71886c27-8ea7-42cf-b99b-df18c6b01a67"
      },
      "execution_count": 38,
      "outputs": [
        {
          "output_type": "stream",
          "name": "stdout",
          "text": [
            "Invalid ROI coordinates: x1=191, y1=214, x2=573, y2=203\n",
            "Invalid ROI coordinates: x1=322, y1=563, x2=668, y2=485\n",
            "Invalid ROI coordinates: x1=371, y1=113, x2=516, y2=113\n",
            "Empty ROI at x1=-9, y1=66, x2=324, y2=120\n",
            "Empty ROI at x1=-1, y1=149, x2=188, y2=190\n",
            "Invalid ROI coordinates: x1=282, y1=170, x2=471, y2=132\n",
            "Invalid ROI coordinates: x1=418, y1=199, x2=578, y2=179\n"
          ]
        }
      ]
    }
  ]
}
