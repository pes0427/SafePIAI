{
  "nbformat": 4,
  "nbformat_minor": 0,
  "metadata": {
    "colab": {
      "provenance": []
    },
    "kernelspec": {
      "name": "python3",
      "display_name": "Python 3"
    },
    "language_info": {
      "name": "python"
    },
    "accelerator": "TPU"
  },
  "cells": [
    {
      "cell_type": "code",
      "execution_count": 1,
      "metadata": {
        "id": "UBN7dygmv02K"
      },
      "outputs": [],
      "source": [
        "import pandas as pd"
      ]
    },
    {
      "cell_type": "code",
      "source": [
        "# 첫 번째 CSV 파일 로드\n",
        "file_path1 = 'Total_Road_Address_Eng.csv'\n",
        "df1 = pd.read_csv(file_path1, sep='|', encoding='cp949')\n",
        "\n",
        "# 두 번째 CSV 파일 로드\n",
        "file_path2 = 'Total_Road_Address_Hangul.csv'\n",
        "df2 = pd.read_csv(file_path2, sep='|', encoding='cp949')"
      ],
      "metadata": {
        "id": "vNmcwF0BwhCm"
      },
      "execution_count": 3,
      "outputs": []
    },
    {
      "cell_type": "code",
      "source": [
        "df1.columns = ['Road_Address']"
      ],
      "metadata": {
        "id": "W0dLLAVsxZx4"
      },
      "execution_count": 10,
      "outputs": []
    },
    {
      "cell_type": "code",
      "source": [
        "print(df2)"
      ],
      "metadata": {
        "colab": {
          "base_uri": "https://localhost:8080/"
        },
        "id": "trM3OanTx_7j",
        "outputId": "99df9dce-df21-460b-f322-364e84fcbc85"
      },
      "execution_count": 12,
      "outputs": [
        {
          "output_type": "stream",
          "name": "stdout",
          "text": [
            "       Road_Address\n",
            "0            10용사1길\n",
            "1            10용사2길\n",
            "2            10용사3길\n",
            "3             10용사로\n",
            "4             1100로\n",
            "...             ...\n",
            "155303     흰바위로27번길\n",
            "155304     흰바위로59번길\n",
            "155305     흰바위로92번길\n",
            "155306         흰여울길\n",
            "155307         히어실길\n",
            "\n",
            "[155308 rows x 1 columns]\n"
          ]
        }
      ]
    },
    {
      "cell_type": "code",
      "source": [
        "print(df1)"
      ],
      "metadata": {
        "colab": {
          "base_uri": "https://localhost:8080/"
        },
        "id": "vdPRWJUOyO5w",
        "outputId": "d27f048a-f62d-4316-9076-c58f8cfa48d6"
      },
      "execution_count": 11,
      "outputs": [
        {
          "output_type": "stream",
          "name": "stdout",
          "text": [
            "                 Road_Address\n",
            "0              10yongsa 2-gil\n",
            "1              10yongsa 3-gil\n",
            "2                 10yongsa-ro\n",
            "3                     1100-ro\n",
            "4          1100-ro 49beon-gil\n",
            "...                       ...\n",
            "155234  Yuwonji-ro 94beon-gil\n",
            "155235              Yuyeon-ro\n",
            "155236              Yuyong-ro\n",
            "155237            Yuyunue-gil\n",
            "155238            Yuyuodi-gil\n",
            "\n",
            "[155239 rows x 1 columns]\n"
          ]
        }
      ]
    },
    {
      "cell_type": "code",
      "source": [
        "# 두 데이터프레임을 합치기\n",
        "combined_df = pd.concat([df1, df2], ignore_index=True)"
      ],
      "metadata": {
        "id": "HcuUXYaYyva7"
      },
      "execution_count": 15,
      "outputs": []
    },
    {
      "cell_type": "code",
      "source": [
        "print(combined_df)"
      ],
      "metadata": {
        "colab": {
          "base_uri": "https://localhost:8080/"
        },
        "id": "ap16PjabwzF3",
        "outputId": "022a66ad-74c5-42b5-ae25-25ed114b0f77"
      },
      "execution_count": 16,
      "outputs": [
        {
          "output_type": "stream",
          "name": "stdout",
          "text": [
            "              Road_Address\n",
            "0           10yongsa 2-gil\n",
            "1           10yongsa 3-gil\n",
            "2              10yongsa-ro\n",
            "3                  1100-ro\n",
            "4       1100-ro 49beon-gil\n",
            "...                    ...\n",
            "310542            흰바위로27번길\n",
            "310543            흰바위로59번길\n",
            "310544            흰바위로92번길\n",
            "310545                흰여울길\n",
            "310546                히어실길\n",
            "\n",
            "[310547 rows x 1 columns]\n"
          ]
        }
      ]
    },
    {
      "cell_type": "code",
      "source": [
        "# 결과 데이터프레임을 CSV 파일로 저장\n",
        "combined_df.to_csv('Total_Road_Address.csv', index=False, encoding='utf-8')"
      ],
      "metadata": {
        "id": "ZAcEvQmoy76D"
      },
      "execution_count": 17,
      "outputs": []
    }
  ]
}